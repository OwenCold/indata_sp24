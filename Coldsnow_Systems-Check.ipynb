{
 "cells": [
  {
   "cell_type": "markdown",
   "id": "cfd5b4fb-5cd0-4100-8afe-e83e49e3a5d7",
   "metadata": {},
   "source": [
    "# Owen Coldsnow\n",
    "---\n",
    "## What I hope to get out of this class\n",
    "**I am hoping to go on to get my PhD.** \n",
    "\n",
    "I believe this class well help me when it comes to:\n",
    "1. *research*\n",
    "2. *interpreting data*\n",
    "3. *presenting that data in a readable and professional format.*\n",
    "\n",
    "![Image](KentState.jpeg)"
   ]
  },
  {
   "cell_type": "code",
   "execution_count": 2,
   "id": "cd5d5cce-2781-47de-a944-7516904c3d3d",
   "metadata": {},
   "outputs": [],
   "source": [
    "x = 5"
   ]
  },
  {
   "cell_type": "code",
   "execution_count": 3,
   "id": "cb8ad8ca-41e9-40de-a8a5-60dc239403db",
   "metadata": {},
   "outputs": [
    {
     "data": {
      "text/plain": [
       "5"
      ]
     },
     "execution_count": 3,
     "metadata": {},
     "output_type": "execute_result"
    }
   ],
   "source": [
    "x"
   ]
  },
  {
   "cell_type": "code",
   "execution_count": 4,
   "id": "370afacd-a9e4-44b5-976d-fd6c0fd571dd",
   "metadata": {},
   "outputs": [
    {
     "name": "stdout",
     "output_type": "stream",
     "text": [
      "5\n"
     ]
    }
   ],
   "source": [
    "print(x)"
   ]
  },
  {
   "cell_type": "code",
   "execution_count": 7,
   "id": "7ab0dc06-880b-47e5-90aa-f3863fc65599",
   "metadata": {},
   "outputs": [
    {
     "name": "stdout",
     "output_type": "stream",
     "text": [
      "1\n",
      "2\n",
      "3\n",
      "4\n",
      "5\n"
     ]
    }
   ],
   "source": [
    "for i in [1,2,3,4]:\n",
    "    print(i)\n",
    "\n",
    "for i in [x]:\n",
    "    print(i)"
   ]
  },
  {
   "cell_type": "code",
   "execution_count": 4,
   "id": "1215d8ac-1e63-4945-a809-1aee6b9ec99c",
   "metadata": {},
   "outputs": [],
   "source": [
    "def say_hello(x):\n",
    "    print(\"hello \" + str(x))"
   ]
  },
  {
   "cell_type": "code",
   "execution_count": 5,
   "id": "cc1c790c-1c79-49a2-86a2-d8a0b64065a5",
   "metadata": {},
   "outputs": [
    {
     "name": "stdout",
     "output_type": "stream",
     "text": [
      "hello David\n"
     ]
    }
   ],
   "source": [
    "say_hello(\"Owen\")"
   ]
  },
  {
   "cell_type": "code",
   "execution_count": 7,
   "id": "2488d11b-c673-4321-b49e-b958951a4895",
   "metadata": {},
   "outputs": [],
   "source": [
    "def return_hello(x):\n",
    "    y = \"hello \" + x\n",
    "    return y"
   ]
  },
  {
   "cell_type": "code",
   "execution_count": 8,
   "id": "9324f554-6f4a-4486-9f15-b56ef87f55d0",
   "metadata": {},
   "outputs": [
    {
     "data": {
      "text/plain": [
       "'hello David'"
      ]
     },
     "execution_count": 8,
     "metadata": {},
     "output_type": "execute_result"
    }
   ],
   "source": [
    "return_hello(\"Owen\")"
   ]
  }
 ],
 "metadata": {
  "kernelspec": {
   "display_name": "Python 3 (ipykernel)",
   "language": "python",
   "name": "python3"
  },
  "language_info": {
   "codemirror_mode": {
    "name": "ipython",
    "version": 3
   },
   "file_extension": ".py",
   "mimetype": "text/x-python",
   "name": "python",
   "nbconvert_exporter": "python",
   "pygments_lexer": "ipython3",
   "version": "3.12.1"
  }
 },
 "nbformat": 4,
 "nbformat_minor": 5
}
