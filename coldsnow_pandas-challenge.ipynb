{
 "cells": [
  {
   "cell_type": "code",
   "execution_count": 1,
   "id": "f50a9794-dad8-467a-b5bc-53d42ed6a1a9",
   "metadata": {},
   "outputs": [],
   "source": [
    "import pandas as pd  #Step 2, import pandas as pd"
   ]
  },
  {
   "cell_type": "code",
   "execution_count": 2,
   "id": "95a8aa74-131c-4843-a74d-7b795094f0bb",
   "metadata": {},
   "outputs": [
    {
     "data": {
      "text/html": [
       "<div>\n",
       "<style scoped>\n",
       "    .dataframe tbody tr th:only-of-type {\n",
       "        vertical-align: middle;\n",
       "    }\n",
       "\n",
       "    .dataframe tbody tr th {\n",
       "        vertical-align: top;\n",
       "    }\n",
       "\n",
       "    .dataframe thead th {\n",
       "        text-align: right;\n",
       "    }\n",
       "</style>\n",
       "<table border=\"1\" class=\"dataframe\">\n",
       "  <thead>\n",
       "    <tr style=\"text-align: right;\">\n",
       "      <th></th>\n",
       "      <th>name</th>\n",
       "      <th>height</th>\n",
       "      <th>birth year</th>\n",
       "    </tr>\n",
       "  </thead>\n",
       "  <tbody>\n",
       "    <tr>\n",
       "      <th>0</th>\n",
       "      <td>owen</td>\n",
       "      <td>178</td>\n",
       "      <td>2000</td>\n",
       "    </tr>\n",
       "    <tr>\n",
       "      <th>1</th>\n",
       "      <td>aaron</td>\n",
       "      <td>186</td>\n",
       "      <td>2001</td>\n",
       "    </tr>\n",
       "    <tr>\n",
       "      <th>2</th>\n",
       "      <td>dylan</td>\n",
       "      <td>175</td>\n",
       "      <td>2001</td>\n",
       "    </tr>\n",
       "  </tbody>\n",
       "</table>\n",
       "</div>"
      ],
      "text/plain": [
       "    name  height  birth year\n",
       "0   owen     178        2000\n",
       "1  aaron     186        2001\n",
       "2  dylan     175        2001"
      ]
     },
     "execution_count": 2,
     "metadata": {},
     "output_type": "execute_result"
    }
   ],
   "source": [
    "roommates_df = pd.DataFrame({'name':['owen','aaron','dylan'],'height':[178,186,175],'birth year':[2000,2001,2001]})\n",
    "roommates_df  #Step 2, creating new DataFrame with three columns and three rows"
   ]
  },
  {
   "cell_type": "code",
   "execution_count": 3,
   "id": "7fcd4d22-092a-4b54-b896-c46afb256b66",
   "metadata": {},
   "outputs": [
    {
     "data": {
      "text/html": [
       "<div>\n",
       "<style scoped>\n",
       "    .dataframe tbody tr th:only-of-type {\n",
       "        vertical-align: middle;\n",
       "    }\n",
       "\n",
       "    .dataframe tbody tr th {\n",
       "        vertical-align: top;\n",
       "    }\n",
       "\n",
       "    .dataframe thead th {\n",
       "        text-align: right;\n",
       "    }\n",
       "</style>\n",
       "<table border=\"1\" class=\"dataframe\">\n",
       "  <thead>\n",
       "    <tr style=\"text-align: right;\">\n",
       "      <th></th>\n",
       "      <th>name</th>\n",
       "      <th>height</th>\n",
       "      <th>birth year</th>\n",
       "    </tr>\n",
       "  </thead>\n",
       "  <tbody>\n",
       "    <tr>\n",
       "      <th>0</th>\n",
       "      <td>owen</td>\n",
       "      <td>178</td>\n",
       "      <td>2000</td>\n",
       "    </tr>\n",
       "    <tr>\n",
       "      <th>1</th>\n",
       "      <td>aaron</td>\n",
       "      <td>186</td>\n",
       "      <td>2001</td>\n",
       "    </tr>\n",
       "  </tbody>\n",
       "</table>\n",
       "</div>"
      ],
      "text/plain": [
       "    name  height  birth year\n",
       "0   owen     178        2000\n",
       "1  aaron     186        2001"
      ]
     },
     "execution_count": 3,
     "metadata": {},
     "output_type": "execute_result"
    }
   ],
   "source": [
    "roommates_df.head(2)  #Step 3, view head of DataFrame"
   ]
  },
  {
   "cell_type": "code",
   "execution_count": 4,
   "id": "f986750f-85a1-4399-a462-536cec113e9e",
   "metadata": {},
   "outputs": [
    {
     "data": {
      "text/plain": [
       "RangeIndex(start=0, stop=3, step=1)"
      ]
     },
     "execution_count": 4,
     "metadata": {},
     "output_type": "execute_result"
    }
   ],
   "source": [
    "roommates_df.index  #Step 4, view index of DataFrame"
   ]
  },
  {
   "cell_type": "code",
   "execution_count": 5,
   "id": "28c745d4-cacb-4788-98b0-56f6c2d3543e",
   "metadata": {},
   "outputs": [
    {
     "data": {
      "text/plain": [
       "0     owen\n",
       "1    aaron\n",
       "2    dylan\n",
       "Name: name, dtype: object"
      ]
     },
     "execution_count": 5,
     "metadata": {},
     "output_type": "execute_result"
    }
   ],
   "source": [
    "roommates_df['name']  #Step 5, view first column of DataFrame"
   ]
  },
  {
   "cell_type": "code",
   "execution_count": 6,
   "id": "aeb53117-4054-4027-bf69-09f063d03027",
   "metadata": {},
   "outputs": [
    {
     "data": {
      "text/plain": [
       "name          owen\n",
       "height         178\n",
       "birth year    2000\n",
       "Name: 0, dtype: object"
      ]
     },
     "execution_count": 6,
     "metadata": {},
     "output_type": "execute_result"
    }
   ],
   "source": [
    "roommates_df.iloc[0]  #Step 6, view first row of DataFrame"
   ]
  },
  {
   "cell_type": "code",
   "execution_count": 7,
   "id": "f2442738-f387-4d2f-83c3-a1610e9df382",
   "metadata": {},
   "outputs": [],
   "source": [
    "roommates_df.to_csv('roommates_data.csv')  #Step 7, write Dataframe to new CSV file"
   ]
  },
  {
   "cell_type": "markdown",
   "id": "dda43fd4-02ae-46fb-885c-97266a7f1a8b",
   "metadata": {},
   "source": [
    "## Why are dynamic, interactive data visualizations useful when communicating data?\n",
    "\n",
    "     I think it is important because humans are visual creatures.  This helps us see trends in data and lets us tell a story rather than just seeing a lot of data without an interactive visualazition.  Making it dynamic and interactive lets people dig further into the information they are interested in as well."
   ]
  },
  {
   "cell_type": "code",
   "execution_count": null,
   "id": "66c649c3-5cdd-4787-ab66-0c0647c17f32",
   "metadata": {},
   "outputs": [],
   "source": []
  }
 ],
 "metadata": {
  "kernelspec": {
   "display_name": "Python 3 (ipykernel)",
   "language": "python",
   "name": "python3"
  },
  "language_info": {
   "codemirror_mode": {
    "name": "ipython",
    "version": 3
   },
   "file_extension": ".py",
   "mimetype": "text/x-python",
   "name": "python",
   "nbconvert_exporter": "python",
   "pygments_lexer": "ipython3",
   "version": "3.12.1"
  }
 },
 "nbformat": 4,
 "nbformat_minor": 5
}
